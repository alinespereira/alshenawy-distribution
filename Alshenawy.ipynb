{
 "cells": [
  {
   "cell_type": "code",
   "execution_count": null,
   "id": "40d72f0a-3b86-4724-9875-1b2852f96469",
   "metadata": {
    "tags": []
   },
   "outputs": [],
   "source": [
    "%load_ext rich"
   ]
  },
  {
   "cell_type": "markdown",
   "id": "8dc319ad-aa61-4190-8f94-0f1359bcf3e9",
   "metadata": {},
   "source": [
    "```bash\n",
    "%%bash\n",
    "git clone https://github.com/alinespereira/alshenawy-distribution\n",
    "mv alshenawy-distribution/distributions .\n",
    "mv alshenawy-distribution/stats .\n",
    "rm -rf alshenawy-distribution\n",
    "```"
   ]
  },
  {
   "cell_type": "code",
   "execution_count": null,
   "id": "7c535813-dd17-4029-9ed0-d9e07317ebc8",
   "metadata": {
    "tags": []
   },
   "outputs": [],
   "source": [
    "import pymc as pm\n",
    "import arviz as az\n",
    "import numpy as np\n",
    "import pandas as pd\n",
    "from scipy import stats, optimize\n",
    "import matplotlib.pyplot as plt\n",
    "import seaborn as sns\n",
    "\n",
    "from distributions.rv import a\n",
    "from distributions.continuous import A\n",
    "from stats import classical, bayesian\n",
    "from stats.utils import summarize"
   ]
  },
  {
   "cell_type": "code",
   "execution_count": null,
   "id": "19db3680-7c52-4a69-9ea8-a1f3c718c147",
   "metadata": {
    "tags": []
   },
   "outputs": [],
   "source": [
    "plt.style.use(\"arviz-darkgrid\")"
   ]
  },
  {
   "cell_type": "markdown",
   "id": "63bf1f0e-913c-45e4-b525-1295058b5197",
   "metadata": {},
   "source": [
    "# Estudo de simulação"
   ]
  },
  {
   "cell_type": "code",
   "execution_count": null,
   "id": "3947e471-d0ee-4eb3-b233-fc386b89a09a",
   "metadata": {
    "tags": []
   },
   "outputs": [],
   "source": [
    "REPLICATIONS: int = 10\n",
    "SAMPLE_SIZES: list[int] = [25, 50, 100, 200, 400]\n",
    "BETAS: list[float] = [0.125, 0.6, 1.0]"
   ]
  },
  {
   "cell_type": "code",
   "execution_count": null,
   "id": "247ab7dd-c739-4fc2-888f-40a7cd50f992",
   "metadata": {
    "tags": []
   },
   "outputs": [],
   "source": [
    "RANDOM_SEED: int = 42\n",
    "RNG: np.random.Generator = np.random.default_rng(RANDOM_SEED)"
   ]
  },
  {
   "cell_type": "markdown",
   "id": "cde1dfdf-e087-4947-b3f0-d24e2633d087",
   "metadata": {},
   "source": [
    "# Estudo de simulação clássico"
   ]
  },
  {
   "cell_type": "code",
   "execution_count": null,
   "id": "0527a621-0f2c-4cd4-9fa4-a6918bb07c67",
   "metadata": {
    "tags": []
   },
   "outputs": [],
   "source": [
    "betas = np.repeat(np.logspace(-2, 2, num=20), 10)\n",
    "samples = np.vstack([\n",
    "    a(beta=beta).rvs(size=100).mean()\n",
    "    for beta in betas\n",
    "]).flatten()"
   ]
  },
  {
   "cell_type": "code",
   "execution_count": null,
   "id": "53f62407-c658-4e67-96e8-03be288faea0",
   "metadata": {
    "tags": []
   },
   "outputs": [],
   "source": [
    "simulations = {}\n",
    "np.random.seed(RANDOM_SEED)\n",
    "\n",
    "for beta in BETAS:\n",
    "    simulations[beta] = {}\n",
    "    rv = a(beta=beta)\n",
    "    print(f\"{beta = }\")\n",
    "    for n in SAMPLE_SIZES:\n",
    "        simulations[beta][n] = []\n",
    "        print(f\"\\t{n = }\")\n",
    "        for i in range(REPLICATIONS):\n",
    "            sample = rv.rvs(size=n)\n",
    "            negative_log_likelihood = lambda beta_: -a(beta=beta_[0]).logpdf(sample).sum()\n",
    "            simulation = classical.simulate(\n",
    "                param=beta,\n",
    "                negative_log_likelihood=negative_log_likelihood,\n",
    "                initial_guess=0.05,\n",
    "                sample_size=len(sample),\n",
    "                alpha=0.05,\n",
    "                method='L-BFGS-B',\n",
    "                options={'gtol': 1e-6}\n",
    "            )\n",
    "            simulations[beta][n].append(simulation)"
   ]
  },
  {
   "cell_type": "code",
   "execution_count": null,
   "id": "66363f25-02eb-4ace-a0a7-8b52a54d2e47",
   "metadata": {
    "tags": []
   },
   "outputs": [],
   "source": [
    "summaries = pd.DataFrame([\n",
    "    summarize(simulations[beta][n])\n",
    "    for beta in simulations\n",
    "    for n in simulations[beta]\n",
    "])"
   ]
  },
  {
   "cell_type": "code",
   "execution_count": null,
   "id": "bc2780cf-92c3-4c7d-9c2f-d207b9ae0980",
   "metadata": {
    "tags": []
   },
   "outputs": [],
   "source": [
    "summaries"
   ]
  },
  {
   "cell_type": "code",
   "execution_count": null,
   "id": "4f899238-cade-4384-9955-68e8c9b3d3da",
   "metadata": {
    "tags": []
   },
   "outputs": [],
   "source": [
    "fig, ax = plt.subplots()\n",
    "\n",
    "sns.pointplot(data=summaries, x=\"sample_size\", y=\"mean\", hue=\"true_param\", ax=ax)"
   ]
  },
  {
   "cell_type": "markdown",
   "id": "347e319a-6a4c-43f1-9149-200c8e3e7a80",
   "metadata": {},
   "source": [
    "# Estudo de simulação bayesiano"
   ]
  },
  {
   "cell_type": "markdown",
   "id": "fb6eec77-97d8-4578-acd6-b1d37497cd8b",
   "metadata": {
    "tags": []
   },
   "source": [
    "```python\n",
    "positive_continuous = [\n",
    "    'Exponential',\n",
    "    'Gamma',\n",
    "    'HalfCauchy',\n",
    "    'HalfFlat',\n",
    "    'HalfNormal',\n",
    "    'HalfStudentT',\n",
    "    'InverseGamma',\n",
    "    'LogNormal',\n",
    "    'LogNormal',\n",
    "    'PolyaGamma',\n",
    "    'Rice',\n",
    "    'Wald',\n",
    "    'Weibull',\n",
    "]\n",
    "```"
   ]
  },
  {
   "cell_type": "markdown",
   "id": "28bf0b67-7c7d-4e76-8411-278dbe3104a4",
   "metadata": {},
   "source": [
    "## Estudo das divergências"
   ]
  },
  {
   "cell_type": "markdown",
   "id": "987b0d39-32a5-446f-ae61-5c3ecba3a487",
   "metadata": {
    "tags": []
   },
   "source": [
    "```python\n",
    "np.random.seed(RANDOM_SEED)\n",
    "\n",
    "sample = a(beta=BETAS[1]).rvs(size=SAMPLE_SIZES[0])\n",
    "\n",
    "with pm.Model() as basic_model:\n",
    "    beta = pm.Gamma(\"beta\", alpha=1, beta=1)\n",
    "    y = A(\"y\", beta=beta, observed=sample)\n",
    "```"
   ]
  },
  {
   "cell_type": "markdown",
   "id": "e0d2b81c-e399-41cb-8129-2a077b1f2d9e",
   "metadata": {
    "tags": []
   },
   "source": [
    "```python\n",
    "idata = {}\n",
    "\n",
    "targets = [.80, .85, .90, .95, .99]\n",
    "\n",
    "with basic_model:\n",
    "    for target_accept in targets:\n",
    "        idata[target_accept] = pm.sample(draws=5000,\n",
    "                                         chains=4,\n",
    "                                         tune=2000,\n",
    "                                         target_accept=target_accept,\n",
    "                                         return_inferencedata=True,\n",
    "                                         random_seed=RNG)\n",
    "\n",
    "pd.DataFrame({\n",
    "    \"step_size\": [float(idata[target].sample_stats.step_size.mean()) for target in targets],\n",
    "    \"divergent\": [float(idata[target].sample_stats.diverging.sum()) for target in targets],\n",
    "    \"delta_target\": targets,\n",
    "})\n",
    "```"
   ]
  },
  {
   "cell_type": "markdown",
   "id": "e70f820e-7d86-4f90-b991-95ff56bc6dd9",
   "metadata": {},
   "source": [
    "## Priori $\\operatorname{Gama}(1, 1)$"
   ]
  },
  {
   "cell_type": "markdown",
   "id": "d33ac150-de7f-4b88-a8c8-693cc4b3b019",
   "metadata": {},
   "source": [
    "\\begin{align}\n",
    "    \\beta &\\sim \\operatorname{Gama}(1, 1) \\\\\n",
    "    X &\\sim \\operatorname{A}(\\beta)\n",
    "\\end{align}"
   ]
  },
  {
   "cell_type": "markdown",
   "id": "f662f9ea-957a-43ce-bb77-f4a1b0ec5e2c",
   "metadata": {
    "tags": []
   },
   "source": [
    "```python\n",
    "np.random.seed(RANDOM_SEED)\n",
    "\n",
    "sample = a(beta=BETAS[0]).rvs(size=SAMPLE_SIZES[0])\n",
    "\n",
    "with pm.Model() as basic_model:\n",
    "    beta = pm.Gamma(\"beta\", alpha=1, beta=1)\n",
    "    y = A(\"y\", beta=beta, observed=sample)\n",
    "    \n",
    "    \n",
    "    idata = pm.sample(draws=5000,           \n",
    "                      chains=4,           \n",
    "                      tune=2000,           \n",
    "                      target_accept=0.95,           \n",
    "                      return_inferencedata=True,           \n",
    "                      random_seed=RNG)\n",
    "    # pm.sample_posterior_predictive(idata, extend_inferencedata=True)\n",
    "    # az.plot_ppc(idata, mean=False, observed_rug=True, num_pp_samples=100)\n",
    "```"
   ]
  },
  {
   "cell_type": "code",
   "execution_count": null,
   "id": "07222402-a768-4df9-9eb3-4f504eb2e858",
   "metadata": {
    "tags": []
   },
   "outputs": [],
   "source": [
    "simulations = {}\n",
    "\n",
    "for beta in BETAS:\n",
    "    simulations[beta] = {}\n",
    "    rv = a(beta=beta)\n",
    "    print(f\"{beta = }\")\n",
    "    for n in SAMPLE_SIZES:\n",
    "        simulations[beta][n] = []\n",
    "        print(f\"\\t{n = }\")\n",
    "        model = bayesian.make_model(\n",
    "            sample = rv.rvs(size=n),\n",
    "            prior=pm.Gamma,\n",
    "            prior_params={\"name\": \"beta\", \"alpha\": 1, \"beta\": 1},\n",
    "        )\n",
    "        for i in range(REPLICATIONS):\n",
    "            sample = rv.rvs(size=n)\n",
    "            bayesian.simulate(\n",
    "                param=beta,\n",
    "                sample=sample,\n",
    "                model=model,\n",
    "                alpha=.05,\n",
    "                sampler_params={\n",
    "                    \"draws\": 1000,           \n",
    "                    \"chains\": 4,           \n",
    "                    \"tune\": 1000,           \n",
    "                    \"target_accept\": .99,           \n",
    "                    \"return_inferencedata\": True,           \n",
    "                    \"random_seed\": RNG\n",
    "                }\n",
    "            )\n",
    "            simulations[beta][n].append(simulation)"
   ]
  },
  {
   "cell_type": "code",
   "execution_count": null,
   "id": "f14c5525-2d41-4f36-bc82-c0de75f7591a",
   "metadata": {
    "tags": []
   },
   "outputs": [],
   "source": [
    "summaries = pd.DataFrame([\n",
    "    summarize(simulations[beta][n])\n",
    "    for beta in simulations\n",
    "    for n in simulations[beta]\n",
    "])"
   ]
  },
  {
   "cell_type": "code",
   "execution_count": null,
   "id": "864fb658-0303-4c6f-9ea5-949f56bd9b06",
   "metadata": {
    "tags": []
   },
   "outputs": [],
   "source": [
    "summaries"
   ]
  },
  {
   "cell_type": "code",
   "execution_count": null,
   "id": "2749f94d-ed0e-4bcb-b96e-16722d48dfd3",
   "metadata": {
    "tags": []
   },
   "outputs": [],
   "source": [
    "fig, ax = plt.subplots()\n",
    "\n",
    "sns.pointplot(data=summaries, x=\"sample_size\", y=\"mean\", hue=\"true_param\", ax=ax)"
   ]
  },
  {
   "cell_type": "markdown",
   "id": "b85dda5a-a9b2-473d-bcfe-1d489f29045b",
   "metadata": {},
   "source": [
    "# Apêndice"
   ]
  },
  {
   "cell_type": "code",
   "execution_count": null,
   "id": "2b65c01a-750b-4683-bc69-d6b8d429f05a",
   "metadata": {
    "tags": []
   },
   "outputs": [],
   "source": [
    "fig, ax = plt.subplots()\n",
    "\n",
    "beta = 30\n",
    "samples = pm.draw(A.dist(beta), 1000)\n",
    "rv = a(beta=beta)\n",
    "\n",
    "xs = np.linspace(rv.ppf(0.001), rv.ppf(0.99), num=200)\n",
    "ys = rv.pdf(xs)\n",
    "sns.histplot(samples, stat=\"density\", ax=ax)\n",
    "sns.lineplot(x=xs, y=ys, color=\"orange\", ax=ax)\n",
    "ax.set(xlim=(0, 50), ylim=(0,0.2))"
   ]
  },
  {
   "cell_type": "code",
   "execution_count": null,
   "id": "60d7251b-ee61-4beb-a796-8df91b006e1d",
   "metadata": {},
   "outputs": [],
   "source": [
    "sample = a(beta=beta).rvs(100)"
   ]
  },
  {
   "cell_type": "code",
   "execution_count": null,
   "id": "d54aa1e7-3426-440b-8072-591c44985c85",
   "metadata": {
    "tags": []
   },
   "outputs": [],
   "source": [
    "with pm.Model() as model:\n",
    "    beta = pm.Gamma(\"beta\", 1, 1)\n",
    "    y = A(\"y\", beta=beta, observed=sample)"
   ]
  },
  {
   "cell_type": "code",
   "execution_count": null,
   "id": "2245720d-647c-4fa0-a7d9-eb3b4daca5e4",
   "metadata": {
    "tags": []
   },
   "outputs": [],
   "source": [
    "with model:\n",
    "    idata = pm.sample(draws=1000, chains=4, return_inferencedata=True)"
   ]
  },
  {
   "cell_type": "code",
   "execution_count": null,
   "id": "ba4b6300-9033-4285-82c5-9ac4f06a251f",
   "metadata": {
    "tags": []
   },
   "outputs": [],
   "source": [
    "az.plot_trace(idata)"
   ]
  },
  {
   "cell_type": "code",
   "execution_count": null,
   "id": "7d80d12b-43df-408d-a9cc-6b604c8d19c2",
   "metadata": {
    "tags": []
   },
   "outputs": [],
   "source": [
    "az.plot_posterior(idata)"
   ]
  },
  {
   "cell_type": "code",
   "execution_count": null,
   "id": "ddfcba82-2bc5-4307-95f2-662bc51e1a48",
   "metadata": {
    "tags": []
   },
   "outputs": [],
   "source": [
    "with model:\n",
    "    pm.sample_posterior_predictive(idata, extend_inferencedata=True)"
   ]
  },
  {
   "cell_type": "code",
   "execution_count": null,
   "id": "397ba156-6e2d-45e4-9f6f-04b2508ff948",
   "metadata": {
    "tags": []
   },
   "outputs": [],
   "source": [
    "ax = az.plot_ppc(idata, mean=False, observed_rug=True, num_pp_samples=100)\n",
    "ax.set_xlim(0, 100)"
   ]
  }
 ],
 "metadata": {
  "kernelspec": {
   "display_name": "Python 3 (ipykernel)",
   "language": "python",
   "name": "python3"
  },
  "language_info": {
   "codemirror_mode": {
    "name": "ipython",
    "version": 3
   },
   "file_extension": ".py",
   "mimetype": "text/x-python",
   "name": "python",
   "nbconvert_exporter": "python",
   "pygments_lexer": "ipython3",
   "version": "3.10.6"
  }
 },
 "nbformat": 4,
 "nbformat_minor": 5
}
